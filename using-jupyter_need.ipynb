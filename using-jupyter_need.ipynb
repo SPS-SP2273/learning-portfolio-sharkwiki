{
 "cells": [
  {
   "cell_type": "markdown",
   "id": "4a99ec81-6075-4d9a-be7b-f6a873c4678a",
   "metadata": {},
   "source": [
    "# **1 Quadratic Equations**\n",
    "---\n",
    "## **Introduction**\n",
    "![](https://upload.wikimedia.org/wikipedia/commons/thumb/f/f8/Polynomialdeg2.svg/300px-Polynomialdeg2.svg.png)"
   ]
  }
 ],
 "metadata": {
  "kernelspec": {
   "display_name": "Python 3 (ipykernel)",
   "language": "python",
   "name": "python3"
  },
  "language_info": {
   "codemirror_mode": {
    "name": "ipython",
    "version": 3
   },
   "file_extension": ".py",
   "mimetype": "text/x-python",
   "name": "python",
   "nbconvert_exporter": "python",
   "pygments_lexer": "ipython3",
   "version": "3.13.5"
  }
 },
 "nbformat": 4,
 "nbformat_minor": 5
}

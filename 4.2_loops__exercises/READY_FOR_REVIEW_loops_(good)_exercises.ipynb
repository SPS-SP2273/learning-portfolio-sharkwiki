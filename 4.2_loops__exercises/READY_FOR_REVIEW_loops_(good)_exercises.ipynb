{
 "cells": [
  {
   "attachments": {},
   "cell_type": "markdown",
   "id": "123456",
   "metadata": {},
   "source": [
    "<div style=\"text-align:left;font-size:2em\"><span style=\"font-weight:bolder;font-size:1.25em\">SP2273 | Learning Portfolio</span><br><br><span style=\"font-weight:bold;color:darkred\">Loops (Good) Exercises</span></div>"
   ]
  },
  {
   "cell_type": "markdown",
   "id": "5fe0fc0a-99d9-430f-91e5-86936b7c5c26",
   "metadata": {},
   "source": [
    "# **Exercise 1**"
   ]
  },
  {
   "cell_type": "code",
   "execution_count": 6,
   "id": "1d6a6c14-d1f1-4957-a067-ec26a5a3770e",
   "metadata": {},
   "outputs": [
    {
     "name": "stdout",
     "output_type": "stream",
     "text": [
      "1\n",
      "9\n",
      "25\n",
      "49\n"
     ]
    }
   ],
   "source": [
    "for x in range(9):\n",
    "    if x % 2 == 0:\n",
    "        continue \n",
    "    squares = x**2\n",
    "    print(squares)"
   ]
  },
  {
   "cell_type": "markdown",
   "id": "9efeddd6-c987-4799-9611-b3d510584442",
   "metadata": {},
   "source": [
    "# **Exercise 2**"
   ]
  },
  {
   "cell_type": "code",
   "execution_count": 9,
   "id": "4bca1ede-530a-4d79-b8fd-5bc8c4126779",
   "metadata": {},
   "outputs": [
    {
     "data": {
      "text/plain": [
       "[1, 9, 25, 49]"
      ]
     },
     "execution_count": 9,
     "metadata": {},
     "output_type": "execute_result"
    }
   ],
   "source": [
    "[x**2 for x in range(9) if x % 2 == 1]"
   ]
  },
  {
   "cell_type": "markdown",
   "id": "f5ca1b19-59dc-4dce-902e-9b47f167c9cb",
   "metadata": {},
   "source": [
    "# **Exercise 3**"
   ]
  },
  {
   "cell_type": "code",
   "execution_count": 14,
   "id": "d912d020-e46c-4bec-8557-8aa5d04e54fe",
   "metadata": {},
   "outputs": [
    {
     "name": "stdout",
     "output_type": "stream",
     "text": [
      "1.44 μs ± 182 ns per loop (mean ± std. dev. of 7 runs, 1,000,000 loops each)\n"
     ]
    }
   ],
   "source": [
    "%%timeit\n",
    "for x in range(9):\n",
    "    if x % 2 == 0:\n",
    "        continue \n",
    "    squares = x**2      # don't run timeit with print (unless you want many, many squares)"
   ]
  },
  {
   "cell_type": "code",
   "execution_count": 15,
   "id": "81afb60b-67ef-493c-b78b-ea26122b3f77",
   "metadata": {},
   "outputs": [
    {
     "name": "stdout",
     "output_type": "stream",
     "text": [
      "1.49 μs ± 200 ns per loop (mean ± std. dev. of 7 runs, 1,000,000 loops each)\n"
     ]
    }
   ],
   "source": [
    "%%timeit\n",
    "[x**2 for x in range(9) if x % 2 == 1]"
   ]
  },
  {
   "cell_type": "markdown",
   "id": "bbd9d3c2-ebdf-4fd4-89e6-8526cacb7014",
   "metadata": {},
   "source": [
    "# **Exercise 4**"
   ]
  },
  {
   "cell_type": "code",
   "execution_count": 49,
   "id": "439635ce-dee9-457e-a0a2-570055a67d2c",
   "metadata": {},
   "outputs": [
    {
     "name": "stdout",
     "output_type": "stream",
     "text": [
      "It will take 14 years.\n"
     ]
    }
   ],
   "source": [
    "number = 100\n",
    "count = 0\n",
    "\n",
    "while number > 50:\n",
    "    number *= 0.95\n",
    "    count += 1\n",
    "\n",
    "print(f'It will take {count} years.')"
   ]
  },
  {
   "cell_type": "markdown",
   "id": "1349995c-67c2-4e1d-8154-e182498d709d",
   "metadata": {},
   "source": [
    "# **Exercise 5**"
   ]
  },
  {
   "cell_type": "code",
   "execution_count": 6,
   "id": "1e81d6ea-10e5-4ded-8301-c5c8bd71bb88",
   "metadata": {},
   "outputs": [],
   "source": [
    "co2_data = [\n",
    "    (2000, 369.55), (2001, 371.14), (2002, 373.28), \n",
    "    (2003, 375.80), (2004, 377.52), (2005, 379.80), \n",
    "    (2006, 381.90), (2007, 383.79), (2008, 385.60), \n",
    "    (2009, 387.43), (2010, 389.90), (2011, 391.65), \n",
    "    (2012, 393.85), (2013, 396.52), (2014, 398.65),\n",
    "    (2015, 400.83), (2016, 404.24), (2017, 406.55), \n",
    "    (2018, 408.52), (2019, 411.44), (2020, 414.24)\n",
    "]"
   ]
  },
  {
   "cell_type": "code",
   "execution_count": 24,
   "id": "66ac53f5-8822-4dfa-9f14-06cd9d18edd9",
   "metadata": {},
   "outputs": [
    {
     "name": "stdout",
     "output_type": "stream",
     "text": [
      "Between 2015 and 2016, there was an increase of3.410000000000025 ppm.\n"
     ]
    }
   ],
   "source": [
    "for x in range(20):\n",
    "    year1 = co2_data[x][1]\n",
    "    year2 = co2_data[x+1][1]\n",
    "    if year2 - year1 >= 3:\n",
    "        print(f'Between {co2_data[x][0]} and {co2_data[x+1][0]}, there was an increase of{year2 - year1} ppm.')"
   ]
  }
 ],
 "metadata": {
  "kernelspec": {
   "display_name": "Python 3 (ipykernel)",
   "language": "python",
   "name": "python3"
  },
  "language_info": {
   "codemirror_mode": {
    "name": "ipython",
    "version": 3
   },
   "file_extension": ".py",
   "mimetype": "text/x-python",
   "name": "python",
   "nbconvert_exporter": "python",
   "pygments_lexer": "ipython3",
   "version": "3.13.5"
  },
  "toc": {
   "base_numbering": 1,
   "nav_menu": {},
   "number_sections": true,
   "sideBar": true,
   "skip_h1_title": false,
   "title_cell": "Table of Contents",
   "title_sidebar": "Contents",
   "toc_cell": false,
   "toc_position": {},
   "toc_section_display": true,
   "toc_window_display": false
  },
  "vscode": {
   "interpreter": {
    "hash": "31f2aee4e71d21fbe5cf8b01ff0e069b9275f58929596ceb00d14d90e3e16cd6"
   }
  }
 },
 "nbformat": 4,
 "nbformat_minor": 5
}

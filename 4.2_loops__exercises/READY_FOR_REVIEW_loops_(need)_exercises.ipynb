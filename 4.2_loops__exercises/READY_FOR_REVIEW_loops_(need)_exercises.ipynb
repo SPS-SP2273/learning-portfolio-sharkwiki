{
 "cells": [
  {
   "attachments": {},
   "cell_type": "markdown",
   "id": "123456",
   "metadata": {},
   "source": [
    "<div style=\"text-align:left;font-size:2em\"><span style=\"font-weight:bolder;font-size:1.25em\">SP2273 | Learning Portfolio</span><br><br><span style=\"font-weight:bold;color:darkred\">Loops (Need) Exercises</span></div>"
   ]
  },
  {
   "cell_type": "markdown",
   "id": "d2110182-0880-4a1d-9888-22723d1ee24e",
   "metadata": {},
   "source": [
    "# **Exercise 1**"
   ]
  },
  {
   "cell_type": "code",
   "execution_count": 168,
   "id": "155d9f0b-6556-44ae-8890-cc5cbc10372c",
   "metadata": {},
   "outputs": [
    {
     "name": "stdout",
     "output_type": "stream",
     "text": [
      "The temperature is celsius is 0°C and the temperature in fahrenheit is 32.0°F\n",
      "The temperature is celsius is 5°C and the temperature in fahrenheit is 41.0°F\n",
      "The temperature is celsius is 10°C and the temperature in fahrenheit is 50.0°F\n",
      "The temperature is celsius is 15°C and the temperature in fahrenheit is 59.0°F\n",
      "The temperature is celsius is 20°C and the temperature in fahrenheit is 68.0°F\n",
      "The temperature is celsius is 25°C and the temperature in fahrenheit is 77.0°F\n",
      "The temperature is celsius is 30°C and the temperature in fahrenheit is 86.0°F\n",
      "The temperature is celsius is 35°C and the temperature in fahrenheit is 95.0°F\n",
      "The temperature is celsius is 40°C and the temperature in fahrenheit is 104.0°F\n",
      "The temperature is celsius is 45°C and the temperature in fahrenheit is 113.0°F\n",
      "The temperature is celsius is 50°C and the temperature in fahrenheit is 122.0°F\n"
     ]
    }
   ],
   "source": [
    "temperatures_celsius = [\n",
    "    0, 5, 10, 15, 20, 25,\n",
    "    30, 35, 40, 45, 50\n",
    "]\n",
    "\n",
    "for x in temperatures_celsius:  # using f string\n",
    "    print(f'The temperature is celsius is {x}°C and the temperature in fahrenheit is {(x * 9/5) + 32}°F')"
   ]
  },
  {
   "cell_type": "code",
   "execution_count": 167,
   "id": "b4d23208-dc22-406f-b41f-52e1cec05dad",
   "metadata": {},
   "outputs": [
    {
     "name": "stdout",
     "output_type": "stream",
     "text": [
      "The temperature is celsius is 0°C and the temperature in fahrenheit is 32.0°F\n",
      "The temperature is celsius is 5°C and the temperature in fahrenheit is 41.0°F\n",
      "The temperature is celsius is 10°C and the temperature in fahrenheit is 50.0°F\n",
      "The temperature is celsius is 15°C and the temperature in fahrenheit is 59.0°F\n",
      "The temperature is celsius is 20°C and the temperature in fahrenheit is 68.0°F\n",
      "The temperature is celsius is 25°C and the temperature in fahrenheit is 77.0°F\n",
      "The temperature is celsius is 30°C and the temperature in fahrenheit is 86.0°F\n",
      "The temperature is celsius is 35°C and the temperature in fahrenheit is 95.0°F\n",
      "The temperature is celsius is 40°C and the temperature in fahrenheit is 104.0°F\n",
      "The temperature is celsius is 45°C and the temperature in fahrenheit is 113.0°F\n",
      "The temperature is celsius is 50°C and the temperature in fahrenheit is 122.0°F\n"
     ]
    }
   ],
   "source": [
    "temperatures_celsius = [\n",
    "    0, 5, 10, 15, 20, 25,\n",
    "    30, 35, 40, 45, 50\n",
    "]\n",
    "\n",
    "for x in temperatures_celsius: # without using f string (for own reference)\n",
    "    print('The temperature is celsius is', str(x)+\"°C\", 'and the temperature in fahrenheit is', str((x * 9/5) + 32)+\"°F\")\n"
   ]
  },
  {
   "cell_type": "markdown",
   "id": "aa00b356-1afc-4bec-be0c-a46cf7573e08",
   "metadata": {},
   "source": [
    "# **Exercise 2**"
   ]
  },
  {
   "cell_type": "code",
   "execution_count": 2,
   "id": "75906cbd-9a6b-4406-b5ff-30df2bf86424",
   "metadata": {},
   "outputs": [
    {
     "name": "stdout",
     "output_type": "stream",
     "text": [
      "1 : 1   2   3   4   5   \n",
      "2 : 2   4   6   8   10  \n",
      "3 : 3   6   9   12  15  \n",
      "4 : 4   8   12  16  20  \n",
      "5 : 5   10  15  20  25  \n"
     ]
    }
   ],
   "source": [
    "import numpy as np\n",
    "\n",
    "array = np.array([1, 2, 3, 4, 5])\n",
    "\n",
    "for count, number in enumerate(array):\n",
    "    print(f'{count+1:<2}{':':<2}', end='') # put space inside the f string rather than outside\n",
    "    for x in range(5):\n",
    "        print(f'{number*array[x]:<4}', end='')\n",
    "    print() # a line will be left, if you do not include 'end='"
   ]
  },
  {
   "cell_type": "markdown",
   "id": "21fde7f4-75d1-4a1e-9c32-159ced3e63ca",
   "metadata": {},
   "source": [
    "# **Exercise 3**"
   ]
  },
  {
   "cell_type": "code",
   "execution_count": 11,
   "id": "309ec12c-e46f-4caa-a661-0ae7576e49c9",
   "metadata": {},
   "outputs": [
    {
     "name": "stdout",
     "output_type": "stream",
     "text": [
      "Experiment 1: No. of Heads = 3\n",
      "Experiment 2: No. of Heads = 4\n",
      "Experiment 3: No. of Heads = 5\n",
      "Experiment 4: No. of Heads = 6\n",
      "Experiment 5: No. of Heads = 4\n",
      "Experiment 6: No. of Heads = 6\n",
      "Experiment 7: No. of Heads = 4\n",
      "Experiment 8: No. of Heads = 6\n",
      "Experiment 9: No. of Heads = 8\n",
      "Experiment 10: No. of Heads = 4\n"
     ]
    }
   ],
   "source": [
    "import numpy as np\n",
    "\n",
    "for x in range(10):\n",
    "    y = np.random.rand(10)\n",
    "    y[y>=0.5]=1     # lines 4 and 5 change the data\n",
    "    y[y<0.50]=0\n",
    "    print(f'Experiment {x+1}: No. of Heads = {np.sum(y)}')\n",
    "    "
   ]
  },
  {
   "cell_type": "code",
   "execution_count": 13,
   "id": "a8b9f635-086a-4dbb-a3f6-45e3ea925c51",
   "metadata": {},
   "outputs": [
    {
     "name": "stdout",
     "output_type": "stream",
     "text": [
      "Experiment 1: No. of Heads = 3\n",
      "Experiment 2: No. of Heads = 4\n",
      "Experiment 3: No. of Heads = 6\n",
      "Experiment 4: No. of Heads = 6\n",
      "Experiment 5: No. of Heads = 6\n",
      "Experiment 6: No. of Heads = 5\n",
      "Experiment 7: No. of Heads = 4\n",
      "Experiment 8: No. of Heads = 6\n",
      "Experiment 9: No. of Heads = 7\n",
      "Experiment 10: No. of Heads = 5\n"
     ]
    }
   ],
   "source": [
    "import numpy as np\n",
    "\n",
    "for x in range(10):\n",
    "    y = np.random.rand(10)\n",
    "    print(f'Experiment {x+1}: No. of Heads = {np.sum(y>=0.5)}')\n",
    "    \n",
    "# 'true' is considered as 1"
   ]
  }
 ],
 "metadata": {
  "kernelspec": {
   "display_name": "Python 3 (ipykernel)",
   "language": "python",
   "name": "python3"
  },
  "language_info": {
   "codemirror_mode": {
    "name": "ipython",
    "version": 3
   },
   "file_extension": ".py",
   "mimetype": "text/x-python",
   "name": "python",
   "nbconvert_exporter": "python",
   "pygments_lexer": "ipython3",
   "version": "3.13.5"
  },
  "toc": {
   "base_numbering": 1,
   "nav_menu": {},
   "number_sections": true,
   "sideBar": true,
   "skip_h1_title": false,
   "title_cell": "Table of Contents",
   "title_sidebar": "Contents",
   "toc_cell": false,
   "toc_position": {},
   "toc_section_display": true,
   "toc_window_display": false
  },
  "vscode": {
   "interpreter": {
    "hash": "31f2aee4e71d21fbe5cf8b01ff0e069b9275f58929596ceb00d14d90e3e16cd6"
   }
  }
 },
 "nbformat": 4,
 "nbformat_minor": 5
}

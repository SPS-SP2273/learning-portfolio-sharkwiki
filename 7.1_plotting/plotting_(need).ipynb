{
 "cells": [
  {
   "attachments": {},
   "cell_type": "markdown",
   "id": "123456",
   "metadata": {},
   "source": [
    "<div style=\"text-align:left;font-size:2em\"><span style=\"font-weight:bolder;font-size:1.25em\">SP2273 | Learning Portfolio</span><br><br><span style=\"font-weight:bold;color:darkred\">Plotting (Need)</span></div>"
   ]
  },
  {
   "attachments": {},
   "cell_type": "markdown",
   "id": "dcbc4d6f",
   "metadata": {},
   "source": [
    "# What to expect in this chapter"
   ]
  },
  {
   "cell_type": "code",
   "execution_count": 1,
   "id": "be490498-2214-48eb-bd33-c4782ec57a85",
   "metadata": {},
   "outputs": [],
   "source": [
    "import numpy as np\n",
    "from matplotlib import pyplot as plt"
   ]
  },
  {
   "attachments": {},
   "cell_type": "markdown",
   "id": "6c79152a",
   "metadata": {},
   "source": [
    "# 1 A simple plot"
   ]
  },
  {
   "attachments": {},
   "cell_type": "markdown",
   "id": "05075025",
   "metadata": {},
   "source": [
    "## 1.1 Let’s look at some code."
   ]
  },
  {
   "cell_type": "code",
   "execution_count": 11,
   "id": "844baca2-7f98-4d62-9bf6-60aa2a88df99",
   "metadata": {},
   "outputs": [
    {
     "data": {
      "text/plain": [
       "<matplotlib.legend.Legend at 0x188a51b4b90>"
      ]
     },
     "execution_count": 11,
     "metadata": {},
     "output_type": "execute_result"
    },
    {
     "data": {
      "image/png": "[encoded data removed]",
      "text/plain": [
       "<Figure size 640x480 with 1 Axes>"
      ]
     },
     "metadata": {},
     "output_type": "display_data"
    }
   ],
   "source": [
    "# Some data for plotting\n",
    "x = [0, 1, 2, 3, 4, 5, 6]\n",
    "y_1 = [0, 2, 4, 6, 8, 10, 12]\n",
    "y_2 = [0, 3, 6, 9, 12, 15, 18]\n",
    "\n",
    "# Let's start plotting\n",
    "plt.plot(x, y_1, label='Y values',\n",
    "         color='blue', linestyle='dashed')\n",
    "plt.xlabel('x-values')\n",
    "plt.ylabel('y-values')\n",
    "plt.title('X vs Y')\n",
    "plt.grid(alpha=.25)\n",
    "plt.legend(loc='lower left')"
   ]
  },
  {
   "attachments": {},
   "cell_type": "markdown",
   "id": "ce268b83",
   "metadata": {},
   "source": [
    "### Things to note"
   ]
  },
  {
   "cell_type": "code",
   "execution_count": 12,
   "id": "d56fcf6e",
   "metadata": {},
   "outputs": [
    {
     "ename": "NameError",
     "evalue": "name 'y' is not defined",
     "output_type": "error",
     "traceback": [
      "\u001b[31m---------------------------------------------------------------------------\u001b[39m",
      "\u001b[31mNameError\u001b[39m                                 Traceback (most recent call last)",
      "\u001b[36mCell\u001b[39m\u001b[36m \u001b[39m\u001b[32mIn[12]\u001b[39m\u001b[32m, line 1\u001b[39m\n\u001b[32m----> \u001b[39m\u001b[32m1\u001b[39m plt.plot(x, \u001b[43my\u001b[49m, color=\u001b[33m'\u001b[39m\u001b[33mred\u001b[39m\u001b[33m'\u001b[39m, linestyle=\u001b[33m'\u001b[39m\u001b[33mdashed\u001b[39m\u001b[33m'\u001b[39m, linewidth=\u001b[32m2\u001b[39m)\n",
      "\u001b[31mNameError\u001b[39m: name 'y' is not defined"
     ]
    }
   ],
   "source": []
  },
  {
   "attachments": {},
   "cell_type": "markdown",
   "id": "59ad0cae",
   "metadata": {},
   "source": [
    "## 1.2 Adding another plot"
   ]
  },
  {
   "attachments": {},
   "cell_type": "markdown",
   "id": "4ec41661",
   "metadata": {},
   "source": [
    "## 1.3 Yet another plot but with error bars"
   ]
  },
  {
   "attachments": {},
   "cell_type": "markdown",
   "id": "d5b6cc18",
   "metadata": {},
   "source": [
    "# 2 Better with NumPy"
   ]
  },
  {
   "attachments": {},
   "cell_type": "markdown",
   "id": "72f11495",
   "metadata": {},
   "source": [
    "## 2.1 Adding mathematical functions"
   ]
  },
  {
   "attachments": {},
   "cell_type": "markdown",
   "id": "1b7206c1",
   "metadata": {},
   "source": [
    "## We need another axis!"
   ]
  },
  {
   "attachments": {},
   "cell_type": "markdown",
   "id": "f1fab51e",
   "metadata": {},
   "source": [
    "### Things to note"
   ]
  },
  {
   "cell_type": "code",
   "execution_count": null,
   "id": "da401d48",
   "metadata": {},
   "outputs": [],
   "source": [
    "\n",
    "# Your code here\n"
   ]
  },
  {
   "attachments": {},
   "cell_type": "markdown",
   "id": "6a566901",
   "metadata": {},
   "source": [
    "# 3 Saving to disc"
   ]
  },
  {
   "attachments": {},
   "cell_type": "markdown",
   "id": "ec3ea96d",
   "metadata": {},
   "source": [
    "# 4 A real example: Global Warming"
   ]
  },
  {
   "attachments": {},
   "cell_type": "markdown",
   "id": "cd1dde9f",
   "metadata": {},
   "source": [
    "## 4.1 Plotting data from files"
   ]
  },
  {
   "attachments": {},
   "cell_type": "markdown",
   "id": "74caba19",
   "metadata": {},
   "source": [
    "## 4.2 Styles"
   ]
  },
  {
   "attachments": {},
   "cell_type": "markdown",
   "id": "5e4d3beb",
   "metadata": {},
   "source": [
    "### xkcd!"
   ]
  },
  {
   "cell_type": "code",
   "execution_count": null,
   "id": "8c8c82b5",
   "metadata": {},
   "outputs": [],
   "source": [
    "\n",
    "# Your code here\n"
   ]
  },
  {
   "attachments": {},
   "cell_type": "markdown",
   "id": "0c7b5950",
   "metadata": {},
   "source": [
    "### Resetting styles"
   ]
  },
  {
   "cell_type": "code",
   "execution_count": null,
   "id": "8a80fcfa",
   "metadata": {},
   "outputs": [],
   "source": [
    "\n",
    "# Your code here\n"
   ]
  }
 ],
 "metadata": {
  "kernelspec": {
   "display_name": "Python 3 (ipykernel)",
   "language": "python",
   "name": "python3"
  },
  "language_info": {
   "codemirror_mode": {
    "name": "ipython",
    "version": 3
   },
   "file_extension": ".py",
   "mimetype": "text/x-python",
   "name": "python",
   "nbconvert_exporter": "python",
   "pygments_lexer": "ipython3",
   "version": "3.13.5"
  },
  "toc": {
   "base_numbering": 1,
   "nav_menu": {},
   "number_sections": true,
   "sideBar": true,
   "skip_h1_title": false,
   "title_cell": "Table of Contents",
   "title_sidebar": "Contents",
   "toc_cell": false,
   "toc_position": {},
   "toc_section_display": true,
   "toc_window_display": false
  },
  "vscode": {
   "interpreter": {
    "hash": "31f2aee4e71d21fbe5cf8b01ff0e069b9275f58929596ceb00d14d90e3e16cd6"
   }
  }
 },
 "nbformat": 4,
 "nbformat_minor": 5
}

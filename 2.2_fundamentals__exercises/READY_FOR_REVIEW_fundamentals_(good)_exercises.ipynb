{
 "cells": [
  {
   "attachments": {},
   "cell_type": "markdown",
   "id": "123456",
   "metadata": {},
   "source": [
    "<div style=\"text-align:left;font-size:2em\"><span style=\"font-weight:bolder;font-size:1.25em\">SP2273 | Learning Portfolio</span><br><br><span style=\"font-weight:bold;color:darkred\">Fundamentals (Good) Exercises</span></div>"
   ]
  },
  {
   "cell_type": "markdown",
   "id": "9a9dc25d-51fd-46af-a7a3-bac2cb572e77",
   "metadata": {},
   "source": [
    "# **Exercise 1**"
   ]
  },
  {
   "cell_type": "code",
   "execution_count": 1,
   "id": "23901c18-3f32-4104-bb43-a16532f15123",
   "metadata": {},
   "outputs": [
    {
     "name": "stdin",
     "output_type": "stream",
     "text": [
      "What is your name? Net\n"
     ]
    },
    {
     "name": "stdout",
     "output_type": "stream",
     "text": [
      "How you doin' Net!\n"
     ]
    }
   ],
   "source": [
    "user_input = input ('What is your name?')\n",
    "print(f\"How you doin' {user_input}!\")"
   ]
  },
  {
   "cell_type": "code",
   "execution_count": 2,
   "id": "6105ec32-37eb-401c-a275-c26159500c84",
   "metadata": {},
   "outputs": [
    {
     "name": "stdin",
     "output_type": "stream",
     "text": [
      "What is your name? Net\n",
      "What is your age? 19\n"
     ]
    },
    {
     "name": "stdout",
     "output_type": "stream",
     "text": [
      "My name is Net and I am 19 years old.\n"
     ]
    }
   ],
   "source": [
    "user_input_1 = input('What is your name?')\n",
    "user_input_2 = input('What is your age?')\n",
    "print(f\"My name is {user_input_1} and I am {user_input_2} years old.\")"
   ]
  },
  {
   "cell_type": "code",
   "execution_count": 23,
   "id": "6bf09593-cd67-445c-a4d8-00b05595bb8f",
   "metadata": {},
   "outputs": [
    {
     "name": "stdout",
     "output_type": "stream",
     "text": [
      "The value of pi to 2 decimal places is 3.14\n",
      "The value of pi to 3 decimal places is 3.142\n",
      "The value of pi to 4 decimal places is 3.1416\n"
     ]
    }
   ],
   "source": [
    "pi = 3.141592653589793\n",
    "print(f\"The value of pi to 2 decimal places is {pi:.2f}\")\n",
    "print(f\"The value of pi to 3 decimal places is {pi:.3f}\")\n",
    "print(f\"The value of pi to 4 decimal places is {pi:.4f}\")"
   ]
  },
  {
   "cell_type": "code",
   "execution_count": 41,
   "id": "68d2dabb-ff9b-4bd4-8b91-0cbaab91ad68",
   "metadata": {},
   "outputs": [
    {
     "name": "stdout",
     "output_type": "stream",
     "text": [
      "Apple      $ 0.99\n",
      "Banana     $ 0.59\n",
      "Orange     $ 1.29\n"
     ]
    }
   ],
   "source": [
    "print(f'{'Apple':<10} {'$ 0.99':<5}') \n",
    "print(f'{'Banana':<10} {'$ 0.59':<5}') \n",
    "print(f'{'Orange':<10} {'$ 1.29':<5}') "
   ]
  },
  {
   "cell_type": "markdown",
   "id": "adc3aaeb-ecda-4499-b9d2-6e189489dcee",
   "metadata": {},
   "source": [
    "# **Exercise 2**"
   ]
  },
  {
   "cell_type": "code",
   "execution_count": 24,
   "id": "eb06079f-fee4-465f-8ecc-5e4fa19e8c2c",
   "metadata": {},
   "outputs": [
    {
     "name": "stdin",
     "output_type": "stream",
     "text": [
      "Enter the student's score: 80\n"
     ]
    },
    {
     "name": "stdout",
     "output_type": "stream",
     "text": [
      "Please enter a numerical score.\n"
     ]
    }
   ],
   "source": [
    "# old (uses strings instead of integers)\n",
    "\n",
    "user_input = input (\"Enter the student's score:\")\n",
    "if user_input <= '34' :\n",
    "    print(f\"The student's letter grade is: Fail\")\n",
    "elif '35' <= user_input <= '49':\n",
    "    print(f\"The student's letter grade is: C\")\n",
    "elif '50' <= user_input <= '69':\n",
    "    print(f\"The student's letter grade is: B\")\n",
    "elif '70' <= user_input <= '100':\n",
    "    print(f\"The student's letter grade is: A\") # Input of 70-100 outputs \"Please enter a numerical score.\" for some reason. When I asked TA, he was more surprised the rest of my code worked\n",
    "else:\n",
    "    print(f\"Please enter a numerical score.\")"
   ]
  },
  {
   "cell_type": "code",
   "execution_count": 26,
   "id": "ff88663f-db31-471e-8020-e4b5b520fb61",
   "metadata": {},
   "outputs": [
    {
     "name": "stdin",
     "output_type": "stream",
     "text": [
      "Enter the student's score: -5\n"
     ]
    },
    {
     "name": "stdout",
     "output_type": "stream",
     "text": [
      "Please enter a numerical score from 0 to 100.\n"
     ]
    }
   ],
   "source": [
    "user_input = int(input (\"Enter the student's score:\"))\n",
    "if 0<= user_input <= 34 :\n",
    "    print(f\"The student's letter grade is: Fail\")\n",
    "elif 35 <= user_input <= 49:\n",
    "    print(f\"The student's letter grade is: C\")\n",
    "elif 50 <= user_input <= 69:\n",
    "    print(f\"The student's letter grade is: B\")\n",
    "elif 70 <= user_input <= 100:\n",
    "    print(f\"The student's letter grade is: A\")\n",
    "else:\n",
    "    print(f\"Please enter a numerical score from 0 to 100.\")"
   ]
  },
  {
   "cell_type": "markdown",
   "id": "537436b4-f3f5-4fbc-8c9c-38d9f593ba01",
   "metadata": {},
   "source": [
    "# **Exercise 3**"
   ]
  },
  {
   "cell_type": "code",
   "execution_count": 67,
   "id": "798061f8-0471-4d59-80ab-e02000cad0e9",
   "metadata": {},
   "outputs": [
    {
     "name": "stdout",
     "output_type": "stream",
     "text": [
      "120\n",
      "Invalid input\n"
     ]
    }
   ],
   "source": [
    "def factorial(n):\n",
    "    if n < 0:\n",
    "        return \"Invalid input\"\n",
    "    elif n == 0:\n",
    "        return 1\n",
    "    else:\n",
    "        result = 1\n",
    "        for number in range(1, n+1):\n",
    "            result *= number\n",
    "        return result\n",
    "\n",
    "\n",
    "print(factorial(5))   # Testing, expected output: 120\n",
    "print(factorial(-1))  # Testing, expected output: Invalid input"
   ]
  }
 ],
 "metadata": {
  "kernelspec": {
   "display_name": "Python 3 (ipykernel)",
   "language": "python",
   "name": "python3"
  },
  "language_info": {
   "codemirror_mode": {
    "name": "ipython",
    "version": 3
   },
   "file_extension": ".py",
   "mimetype": "text/x-python",
   "name": "python",
   "nbconvert_exporter": "python",
   "pygments_lexer": "ipython3",
   "version": "3.13.5"
  },
  "toc": {
   "base_numbering": 1,
   "nav_menu": {},
   "number_sections": true,
   "sideBar": true,
   "skip_h1_title": false,
   "title_cell": "Table of Contents",
   "title_sidebar": "Contents",
   "toc_cell": false,
   "toc_position": {},
   "toc_section_display": true,
   "toc_window_display": false
  },
  "vscode": {
   "interpreter": {
    "hash": "31f2aee4e71d21fbe5cf8b01ff0e069b9275f58929596ceb00d14d90e3e16cd6"
   }
  }
 },
 "nbformat": 4,
 "nbformat_minor": 5
}

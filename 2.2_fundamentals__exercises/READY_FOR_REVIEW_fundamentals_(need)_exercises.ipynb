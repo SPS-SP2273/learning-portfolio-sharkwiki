{
 "cells": [
  {
   "attachments": {},
   "cell_type": "markdown",
   "id": "123456",
   "metadata": {},
   "source": [
    "<div style=\"text-align:left;font-size:2em\"><span style=\"font-weight:bolder;font-size:1.25em\">SP2273 | Learning Portfolio</span><br><br><span style=\"font-weight:bold;color:darkred\">Fundamentals (Need) Exercises</span></div>"
   ]
  },
  {
   "cell_type": "markdown",
   "id": "9bb1016b-f9ab-4367-b17d-c8116c5d08ce",
   "metadata": {},
   "source": [
    "# **Exercise 1**"
   ]
  },
  {
   "cell_type": "markdown",
   "id": "76c26177-b28a-4039-8bfe-084f594cc024",
   "metadata": {},
   "source": [
    "1. print()\n",
    "2. %%timeit\n",
    "3. if, else\n",
    "4. while\n",
    "5. \\* for times\n",
    "6. ** for to the power of\n",
    "7. ctrl + / for comment\n",
    "8.  = to assign\n",
    "9.  == to check if true/false\n",
    "10.  *squares*\n",
    "11.  *case sensitive*\n",
    "12.  *indentations are important*\n",
    "13.  *you can import packages*"
   ]
  },
  {
   "cell_type": "markdown",
   "id": "372267fc-faa8-4ded-b15a-b1d99652905e",
   "metadata": {},
   "source": [
    "# **Exercise 2**"
   ]
  },
  {
   "cell_type": "code",
   "execution_count": 4,
   "id": "5d60329d-ae14-4974-9232-ba362f4b0a65",
   "metadata": {},
   "outputs": [
    {
     "name": "stdout",
     "output_type": "stream",
     "text": [
      "3 4 5.0\n"
     ]
    }
   ],
   "source": [
    "import math\n",
    "x, y = 3,4\n",
    "z = math.sqrt(x**2 + y**2)\n",
    "print(x, y, z)"
   ]
  },
  {
   "cell_type": "markdown",
   "id": "08d3c0bb-240a-446e-8577-b18b1134f993",
   "metadata": {},
   "source": [
    "# **Exercise 3**"
   ]
  },
  {
   "cell_type": "markdown",
   "id": "cd9d4e45-db52-4cd2-914e-b98036232dd8",
   "metadata": {},
   "source": [
    "| # | Term | Description |\n",
    "| --- | --- | --- |\n",
    "| 1 | Function | Code that is followed by parentheses that performs a specific task |\n",
    "| 2 | Arguments | An argument is information provided to the function |\n",
    "| 3 | Comments | A string of text between a # and the end of the line that is ignored by Python |\n",
    "| 4 | Indentations | Pressing tab at the start of a line of code |\n",
    "| 5 | Packages | Complex code that is condensed into simple, user-friendly functions that you can import (possibly to do math) |\n",
    "| 6 | . | Indicates ownership of a function |\n",
    "| 7 | : | Designates a block of code |\n",
    "| 8 | [] | Brackets that are used for lists of data |\n",
    "| 9 | [[], []] | Brackets that are used for lists of lists of data |\n",
    "| 10 | {} | Brackets used to store data in a dictionary |"
   ]
  },
  {
   "cell_type": "markdown",
   "id": "58fb4b2a-d5bc-4449-8c56-9d811ed8bda5",
   "metadata": {},
   "source": [
    "# **Exercise 4**"
   ]
  },
  {
   "cell_type": "code",
   "execution_count": 6,
   "id": "3b0671fa-b495-4799-86d4-473a46b39fee",
   "metadata": {},
   "outputs": [
    {
     "data": {
      "text/plain": [
       "2.5"
      ]
     },
     "execution_count": 6,
     "metadata": {},
     "output_type": "execute_result"
    }
   ],
   "source": [
    "5/2           # Divides 5 by 2"
   ]
  },
  {
   "cell_type": "code",
   "execution_count": 10,
   "id": "af0c898e-5089-4528-b686-b94fa5f4813e",
   "metadata": {},
   "outputs": [
    {
     "data": {
      "text/plain": [
       "2"
      ]
     },
     "execution_count": 10,
     "metadata": {},
     "output_type": "execute_result"
    }
   ],
   "source": [
    "5//2          # Floor division, rounds up/down to nearest integer"
   ]
  },
  {
   "cell_type": "code",
   "execution_count": 11,
   "id": "f8b3b2ce-df38-46cf-82b7-5444841a2945",
   "metadata": {},
   "outputs": [
    {
     "data": {
      "text/plain": [
       "1"
      ]
     },
     "execution_count": 11,
     "metadata": {},
     "output_type": "execute_result"
    }
   ],
   "source": [
    "5%2           # Returns the remainder"
   ]
  }
 ],
 "metadata": {
  "kernelspec": {
   "display_name": "Python 3 (ipykernel)",
   "language": "python",
   "name": "python3"
  },
  "language_info": {
   "codemirror_mode": {
    "name": "ipython",
    "version": 3
   },
   "file_extension": ".py",
   "mimetype": "text/x-python",
   "name": "python",
   "nbconvert_exporter": "python",
   "pygments_lexer": "ipython3",
   "version": "3.13.5"
  },
  "toc": {
   "base_numbering": 1,
   "nav_menu": {},
   "number_sections": true,
   "sideBar": true,
   "skip_h1_title": false,
   "title_cell": "Table of Contents",
   "title_sidebar": "Contents",
   "toc_cell": false,
   "toc_position": {},
   "toc_section_display": true,
   "toc_window_display": false
  },
  "vscode": {
   "interpreter": {
    "hash": "31f2aee4e71d21fbe5cf8b01ff0e069b9275f58929596ceb00d14d90e3e16cd6"
   }
  }
 },
 "nbformat": 4,
 "nbformat_minor": 5
}

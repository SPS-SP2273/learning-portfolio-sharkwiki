{
 "cells": [
  {
   "attachments": {},
   "cell_type": "markdown",
   "id": "123456",
   "metadata": {},
   "source": [
    "<div style=\"text-align:left;font-size:2em\"><span style=\"font-weight:bolder;font-size:1.25em\">SP2273 | Learning Portfolio</span><br><br><span style=\"font-weight:bold;color:darkred\">Functions (Need) Exercises</span></div>\n",
    "\n",
    "# **Exercise 1**"
   ]
  },
  {
   "cell_type": "markdown",
   "id": "30388811-fa7f-4ce0-a4ba-1e792b53a64e",
   "metadata": {},
   "source": [
    "def greeting(name):\n",
    "    if name == 'Batman':\n",
    "        return 'Hello Batman! So, nice to meet you!'\n",
    "    return f'Hello {name}!'\n",
    "\n",
    "greeting('Batman')"
   ]
  },
  {
   "cell_type": "markdown",
   "id": "df224f0f-7458-4e2f-81f7-27189fdcd17b",
   "metadata": {},
   "source": [
    "Without an `else`, the function should not do anything if the `if` condition is not fulfilled. However, due to the other `return` nested in the function, the code will instead return that line if the `if` condition is not fulfilled. Since a function can only return one value at a time, the second option will not be returned if the `if` condition is fulfilled. \n",
    "\n",
    "# **Exercise 2**"
   ]
  },
  {
   "cell_type": "code",
   "execution_count": 9,
   "id": "97f61ddb-b52a-41e1-bab7-bb57ee06bfc4",
   "metadata": {},
   "outputs": [
    {
     "name": "stdin",
     "output_type": "stream",
     "text": [
      "What is your weight in kilograms? 0\n",
      "What is your height in meters? 0\n"
     ]
    },
    {
     "name": "stdout",
     "output_type": "stream",
     "text": [
      "Please enter a valid height and weight.\n"
     ]
    }
   ],
   "source": [
    "def calculate_bmi(weight, height):\n",
    "    if height <= 0 and weight <= 0:\n",
    "        print('Please enter a valid height and weight.')\n",
    "    elif height <= 0:\n",
    "        print('Please enter a valid height.')\n",
    "    elif weight <= 0:\n",
    "        print('Please enter a valid weight.')\n",
    "    elif weight > 0 and height > 0:\n",
    "        bmi = weight / (height**2)\n",
    "        if 0 < bmi < 18.5:\n",
    "            print(f'Your BMI is {bmi} and you are underweight.')\n",
    "        elif 18.5 <= bmi <= 24.9:\n",
    "            print(f'Your BMI is {bmi} and you are normal weight.')\n",
    "        elif 25 <= bmi <= 29.9:\n",
    "            print(f'Your BMI is {bmi} and you are overweight.')\n",
    "        elif bmi >= 30:\n",
    "            print(f'Your BMI is {bmi} and you are obese.')\n",
    "\n",
    "weight_str = input ('What is your weight in kilograms?') \n",
    "height_str = input ('What is your height in meters?')\n",
    "weight = float(weight_str)\n",
    "height = float(height_str)\n",
    "calculate_bmi(weight, height) "
   ]
  },
  {
   "cell_type": "markdown",
   "id": "f4b2cbac-7365-4b6e-a916-e71f986d896f",
   "metadata": {},
   "source": [
    "# **Exercise 3**"
   ]
  },
  {
   "cell_type": "code",
   "execution_count": 105,
   "id": "53747f93-43f9-4827-ae73-a9e8157c313e",
   "metadata": {},
   "outputs": [],
   "source": [
    "import sys\n",
    "sys.set_int_max_str_digits(0) "
   ]
  },
  {
   "cell_type": "code",
   "execution_count": 18,
   "id": "f902fdd9-7445-41ff-98b5-2610e88cd53b",
   "metadata": {},
   "outputs": [
    {
     "name": "stdin",
     "output_type": "stream",
     "text": [
      "Please enter an integer. 0\n"
     ]
    },
    {
     "data": {
      "text/plain": [
       "'The factorial of 0 is 1'"
      ]
     },
     "execution_count": 18,
     "metadata": {},
     "output_type": "execute_result"
    }
   ],
   "source": [
    "def factorial(n):\n",
    "    if n < 0:\n",
    "        return 'Please enter a positive number.'\n",
    "    # elif n == 0:\n",
    "    #     print(f'The factorial of {n} is 1')\n",
    "    else: \n",
    "        fact = 1\n",
    "        for i in range (1, n + 1):\n",
    "            fact *= i\n",
    "        return f'The factorial of {n} is {fact}'\n",
    "\n",
    "user_input = input('Please enter an integer.')\n",
    "n = int(user_input)\n",
    "factorial(n)"
   ]
  }
 ],
 "metadata": {
  "kernelspec": {
   "display_name": "Python 3 (ipykernel)",
   "language": "python",
   "name": "python3"
  },
  "language_info": {
   "codemirror_mode": {
    "name": "ipython",
    "version": 3
   },
   "file_extension": ".py",
   "mimetype": "text/x-python",
   "name": "python",
   "nbconvert_exporter": "python",
   "pygments_lexer": "ipython3",
   "version": "3.13.5"
  },
  "toc": {
   "base_numbering": 1,
   "nav_menu": {},
   "number_sections": true,
   "sideBar": true,
   "skip_h1_title": false,
   "title_cell": "Table of Contents",
   "title_sidebar": "Contents",
   "toc_cell": false,
   "toc_position": {},
   "toc_section_display": true,
   "toc_window_display": false
  },
  "vscode": {
   "interpreter": {
    "hash": "31f2aee4e71d21fbe5cf8b01ff0e069b9275f58929596ceb00d14d90e3e16cd6"
   }
  }
 },
 "nbformat": 4,
 "nbformat_minor": 5
}

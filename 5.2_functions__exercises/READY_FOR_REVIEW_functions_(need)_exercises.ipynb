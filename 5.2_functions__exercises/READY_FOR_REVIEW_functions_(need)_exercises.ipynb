{
 "cells": [
  {
   "attachments": {},
   "cell_type": "markdown",
   "id": "123456",
   "metadata": {},
   "source": [
    "<div style=\"text-align:left;font-size:2em\"><span style=\"font-weight:bolder;font-size:1.25em\">SP2273 | Learning Portfolio</span><br><br><span style=\"font-weight:bold;color:darkred\">Functions (Need) Exercises</span></div>\n",
    "\n",
    "# **Exercise 1**"
   ]
  },
  {
   "cell_type": "markdown",
   "id": "30388811-fa7f-4ce0-a4ba-1e792b53a64e",
   "metadata": {},
   "source": [
    "def greeting(name):\n",
    "    if name == 'Batman':\n",
    "        return 'Hello Batman! So, nice to meet you!'\n",
    "    return f'Hello {name}!'\n",
    "\n",
    "greeting('Batman')"
   ]
  },
  {
   "cell_type": "markdown",
   "id": "df224f0f-7458-4e2f-81f7-27189fdcd17b",
   "metadata": {},
   "source": [
    "Without an `else`, the function should not do anything if the `if` condition is not fulfilled. However, due to the other `return` nested in the function, the code will instead return that line if the `if` condition is not fulfilled. Since a function can only return one value at a time, the second option will not be returned if the `if` condition is fulfilled. \n",
    "\n",
    "# **Exercise 2**"
   ]
  },
  {
   "cell_type": "code",
   "execution_count": 101,
   "id": "97f61ddb-b52a-41e1-bab7-bb57ee06bfc4",
   "metadata": {},
   "outputs": [
    {
     "name": "stdin",
     "output_type": "stream",
     "text": [
      "What is your weight in kilograms? 47\n",
      "What is your height in meters? 1.58\n"
     ]
    },
    {
     "name": "stdout",
     "output_type": "stream",
     "text": [
      "Your BMI is 18.82711103989745 and you are normal weight.\n"
     ]
    }
   ],
   "source": [
    "def calculate_bmi(weight, height):\n",
    "    bmi = weight / (height**2)\n",
    "    if height <= 0 and weight <= 0:\n",
    "        print('Please enter a valid height and weight.')\n",
    "    elif height <= 0:\n",
    "        print('Please enter a valid height.')\n",
    "    elif weight <= 0:\n",
    "        print('Please enter a valid weight.')\n",
    "    elif 0 < bmi < 18.5:\n",
    "        print(f'Your BMI is {bmi} and you are underweight.')\n",
    "    elif 18.5 <= bmi <= 24.9:\n",
    "        print(f'Your BMI is {bmi} and you are normal weight.')\n",
    "    elif 25 <= bmi <= 29.9:\n",
    "        print(f'Your BMI is {bmi} and you are overweight.')\n",
    "    elif bmi >= 30:\n",
    "        print(f'Your BMI is {bmi} and you are obese.')\n",
    "\n",
    "weight_str = input ('What is your weight in kilograms?') \n",
    "height_str = input ('What is your height in meters?')\n",
    "weight = float(weight_str)\n",
    "height = float(height_str)\n",
    "calculate_bmi(weight, height) "
   ]
  },
  {
   "cell_type": "markdown",
   "id": "f4b2cbac-7365-4b6e-a916-e71f986d896f",
   "metadata": {},
   "source": [
    "# **Exercise 3**"
   ]
  },
  {
   "cell_type": "code",
   "execution_count": 105,
   "id": "53747f93-43f9-4827-ae73-a9e8157c313e",
   "metadata": {},
   "outputs": [],
   "source": [
    "import sys\n",
    "sys.set_int_max_str_digits(0) "
   ]
  },
  {
   "cell_type": "code",
   "execution_count": 114,
   "id": "f902fdd9-7445-41ff-98b5-2610e88cd53b",
   "metadata": {},
   "outputs": [
    {
     "name": "stdin",
     "output_type": "stream",
     "text": [
      "Please enter an integer. 435\n"
     ]
    },
    {
     "name": "stdout",
     "output_type": "stream",
     "text": [
      "The factorial of 435 is 3492568302586660806842386856444503662583831103151963270426674621635660805299560183857848472606235709176324928135785566272105135837366594209833585558814363070358182977612857455917157286297601930479387485609001476512374351083088365377784169915352975335084319635370903975632739983741242649476843853868701961261253116775264274348981987957119039507360300228357035955173885996157115526098729828404721462985306050401799862573642021446691238525999435460350042106751240907334171804238735464810910923810913945050163802642367621133340691998267477098435706895325974891198370299712261195551012031474431244218362172072588213371168354554350818601891065298718997398955163820787133992141684668110466966816201655936284713677379143456185549191695049295489799131242940854594666503625143075761843676694277917440340060421461969945168877545057327721119527524596359860982068019200000000000000000000000000000000000000000000000000000000000000000000000000000000000000000000000000000000000\n"
     ]
    }
   ],
   "source": [
    "def factorial(n):\n",
    "    if n < 0:\n",
    "        print('Please enter a positive number.')\n",
    "    elif n == 0:\n",
    "        print(f'The factorial of {n} is 1')\n",
    "    else: \n",
    "        fact = 1\n",
    "        for i in range (1, n + 1):\n",
    "            fact *= i\n",
    "        print(f'The factorial of {n} is {fact}')\n",
    "\n",
    "user_input = input('Please enter an integer.')\n",
    "n = int(user_input)\n",
    "factorial(n)"
   ]
  }
 ],
 "metadata": {
  "kernelspec": {
   "display_name": "Python 3 (ipykernel)",
   "language": "python",
   "name": "python3"
  },
  "language_info": {
   "codemirror_mode": {
    "name": "ipython",
    "version": 3
   },
   "file_extension": ".py",
   "mimetype": "text/x-python",
   "name": "python",
   "nbconvert_exporter": "python",
   "pygments_lexer": "ipython3",
   "version": "3.13.5"
  },
  "toc": {
   "base_numbering": 1,
   "nav_menu": {},
   "number_sections": true,
   "sideBar": true,
   "skip_h1_title": false,
   "title_cell": "Table of Contents",
   "title_sidebar": "Contents",
   "toc_cell": false,
   "toc_position": {},
   "toc_section_display": true,
   "toc_window_display": false
  },
  "vscode": {
   "interpreter": {
    "hash": "31f2aee4e71d21fbe5cf8b01ff0e069b9275f58929596ceb00d14d90e3e16cd6"
   }
  }
 },
 "nbformat": 4,
 "nbformat_minor": 5
}

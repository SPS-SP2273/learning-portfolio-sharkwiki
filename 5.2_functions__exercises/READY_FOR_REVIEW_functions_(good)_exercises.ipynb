{
 "cells": [
  {
   "attachments": {},
   "cell_type": "markdown",
   "id": "123456",
   "metadata": {},
   "source": [
    "<div style=\"text-align:left;font-size:2em\"><span style=\"font-weight:bolder;font-size:1.25em\">SP2273 | Learning Portfolio</span><br><br><span style=\"font-weight:bold;color:darkred\">Functions (Good) Exercises</span></div>\n",
    "\n",
    "# **Exercise 1**"
   ]
  },
  {
   "cell_type": "code",
   "execution_count": 6,
   "id": "1db500e4-6364-4f60-9576-12e9210b74b4",
   "metadata": {},
   "outputs": [
    {
     "name": "stdin",
     "output_type": "stream",
     "text": [
      "What is the temperature is Celsius? 5\n",
      "Do you want to convert the temperature to Kelvin? (Yes/No) Yes\n"
     ]
    },
    {
     "name": "stdout",
     "output_type": "stream",
     "text": [
      "The temperature is 278.15K\n"
     ]
    }
   ],
   "source": [
    "def convert_celsius(temperature_celsius, target_scale):\n",
    "    if target_scale == 'Yes':\n",
    "        temp_k = temp_c + 273.15\n",
    "        print(f'The temperature is {temp_k}K')\n",
    "    else:\n",
    "        temp_f = (temperature_celsius * 9/5) + 32\n",
    "        print(f'The temperature is {temp_f}°F.')\n",
    "\n",
    "temp_c = float(input('What is the temperature is Celsius?'))\n",
    "target_scale = input ('Do you want to convert the temperature to Kelvin? (Yes/No)')\n",
    "convert_celsius(temp_c, target_scale)"
   ]
  },
  {
   "cell_type": "markdown",
   "id": "e8924989-9d26-4c03-8558-57c22571d3f1",
   "metadata": {},
   "source": [
    "# **Exercise 2**"
   ]
  },
  {
   "cell_type": "code",
   "execution_count": 7,
   "id": "a5c44e1b-7f6f-4709-b303-21cad9b1302f",
   "metadata": {},
   "outputs": [
    {
     "name": "stdin",
     "output_type": "stream",
     "text": [
      "What is the temperature is Fahrenheit? 20\n",
      "Do you want to convert the temperature to Kelvin? (Yes/No) No\n"
     ]
    },
    {
     "name": "stdout",
     "output_type": "stream",
     "text": [
      "The temperature is -6.666666666666667°C.\n"
     ]
    }
   ],
   "source": [
    "def convert_fahrenheit(temp_f, target_scale):\n",
    "    if target_scale == 'Yes':\n",
    "        temp_k = (temp_f - 32) * 5/9 + 273.15\n",
    "        print(f'The temperature is {temp_k}K')\n",
    "    else:\n",
    "        temp_c = (temp_f - 32) * 5/9\n",
    "        print(f'The temperature is {temp_c}°C.')\n",
    "\n",
    "temp_f = float(input('What is the temperature is Fahrenheit?'))\n",
    "target_scale = input ('Do you want to convert the temperature to Kelvin? (Yes/No)')\n",
    "convert_fahrenheit(temp_f, target_scale)"
   ]
  },
  {
   "cell_type": "markdown",
   "id": "32784bb0-0c05-49ee-aee9-87e2822302d7",
   "metadata": {},
   "source": [
    "# **Exercise 3**"
   ]
  },
  {
   "cell_type": "code",
   "execution_count": 8,
   "id": "6d873a5d-982f-47a5-a024-7c3383d59bb1",
   "metadata": {},
   "outputs": [],
   "source": [
    "def convert_kelvin(temperature, target_scale):\n",
    "    if target_scale == 'Celsius':\n",
    "        temp_c = temperature - 273.15\n",
    "        print(f'The temperature is {temp_c}°C')\n",
    "    elif target_scale == 'Fahrenheit':\n",
    "        temp_f = (temperaure - 273.15) * 9/5 + 32\n",
    "        print(f'The temperature is {temp_f}°F.')\n",
    "    else:\n",
    "        print('Please re-enter the target scale. (Celsius, Fahrenheit)')\n",
    "\n",
    "def convert_celsius(temperature, target_scale):\n",
    "    if target_scale == 'Kelvin':\n",
    "        temp_k = temperature + 273.15\n",
    "        print(f'The temperature is {temp_k}K')\n",
    "    elif target_scale == 'Fahrenheit':\n",
    "        temp_f = (temperature * 9/5) + 32\n",
    "        print(f'The temperature is {temp_f}°F.')\n",
    "    else:\n",
    "        print('Please re-enter the target scale. (Fahrenheit/Kelvin)')\n",
    "\n",
    "def convert_fahrenheit(temperature, target_scale):\n",
    "    if target_scale == 'Kelvin':\n",
    "        temp_k = (temperature - 32) * 5/9 + 273.15\n",
    "        print(f'The temperature is {temp_k}K')\n",
    "    elif target_scale == 'Celsius':\n",
    "        temp_c = (temperature - 32) * 5/9\n",
    "        print(f'The temperature is {temp_c}°C.')\n",
    "    else:\n",
    "        print('Please re-enter the target scale. (Celsius/Kelvin)')"
   ]
  },
  {
   "cell_type": "code",
   "execution_count": 6,
   "id": "b5261ff6-b70e-48b2-8704-574474c1ef92",
   "metadata": {},
   "outputs": [
    {
     "name": "stdin",
     "output_type": "stream",
     "text": [
      "What is the temperature? 30\n",
      "What is the source scale? (Celsius/Fahrenheit/Kelvin) Celsius\n",
      "What is the target scale? (Celsius/Fahrenheit/Kelvin) Kelvin\n"
     ]
    },
    {
     "name": "stdout",
     "output_type": "stream",
     "text": [
      "The temperature is 303.15K\n"
     ]
    }
   ],
   "source": [
    "def convert_temperature(temperature, source_scale, target_scale):\n",
    "    if source_scale == 'Celsius':\n",
    "        convert_celsius(temperature, target_scale)\n",
    "    elif source_scale == 'Fahrenheit':\n",
    "        covert_fahrenheit(temperature, target_scale)\n",
    "    else:\n",
    "        convert_kelvin(temperature, target_scale)\n",
    "\n",
    "temperature = float(input('What is the temperature?'))\n",
    "source_scale = input ('What is the source scale? (Celsius/Fahrenheit/Kelvin)')\n",
    "target_scale = input ('What is the target scale? (Celsius/Fahrenheit/Kelvin)')\n",
    "convert_temperature(temperature, source_scale, target_scale)"
   ]
  }
 ],
 "metadata": {
  "kernelspec": {
   "display_name": "Python 3 (ipykernel)",
   "language": "python",
   "name": "python3"
  },
  "language_info": {
   "codemirror_mode": {
    "name": "ipython",
    "version": 3
   },
   "file_extension": ".py",
   "mimetype": "text/x-python",
   "name": "python",
   "nbconvert_exporter": "python",
   "pygments_lexer": "ipython3",
   "version": "3.13.5"
  },
  "toc": {
   "base_numbering": 1,
   "nav_menu": {},
   "number_sections": true,
   "sideBar": true,
   "skip_h1_title": false,
   "title_cell": "Table of Contents",
   "title_sidebar": "Contents",
   "toc_cell": false,
   "toc_position": {},
   "toc_section_display": true,
   "toc_window_display": false
  },
  "vscode": {
   "interpreter": {
    "hash": "31f2aee4e71d21fbe5cf8b01ff0e069b9275f58929596ceb00d14d90e3e16cd6"
   }
  }
 },
 "nbformat": 4,
 "nbformat_minor": 5
}

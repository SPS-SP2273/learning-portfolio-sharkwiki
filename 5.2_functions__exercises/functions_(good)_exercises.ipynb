{
 "cells": [
  {
   "attachments": {},
   "cell_type": "markdown",
   "id": "123456",
   "metadata": {},
   "source": [
    "<div style=\"text-align:left;font-size:2em\"><span style=\"font-weight:bolder;font-size:1.25em\">SP2273 | Learning Portfolio</span><br><br><span style=\"font-weight:bold;color:darkred\">Functions (Good) Exercises</span></div>\n",
    "\n",
    "# **Exercise 1**"
   ]
  },
  {
   "cell_type": "code",
   "execution_count": 14,
   "id": "1db500e4-6364-4f60-9576-12e9210b74b4",
   "metadata": {},
   "outputs": [
    {
     "ename": "TypeError",
     "evalue": "'float' object is not callable",
     "output_type": "error",
     "traceback": [
      "\u001b[31m---------------------------------------------------------------------------\u001b[39m",
      "\u001b[31mTypeError\u001b[39m                                 Traceback (most recent call last)",
      "\u001b[36mCell\u001b[39m\u001b[36m \u001b[39m\u001b[32mIn[14]\u001b[39m\u001b[32m, line 9\u001b[39m\n\u001b[32m      6\u001b[39m         temp_f = (temperature_celsius * \u001b[32m9\u001b[39m/\u001b[32m5\u001b[39m) + \u001b[32m32\u001b[39m\n\u001b[32m      7\u001b[39m         \u001b[38;5;28mprint\u001b[39m(\u001b[33mf\u001b[39m\u001b[33m'\u001b[39m\u001b[33mThe temperature is \u001b[39m\u001b[38;5;132;01m{\u001b[39;00mtemp_f\u001b[38;5;132;01m}\u001b[39;00m\u001b[33m°F.\u001b[39m\u001b[33m'\u001b[39m)\n\u001b[32m----> \u001b[39m\u001b[32m9\u001b[39m temp_c = \u001b[38;5;28mfloat\u001b[39m(\u001b[38;5;28;43minput\u001b[39;49m\u001b[43m(\u001b[49m\u001b[33;43m'\u001b[39;49m\u001b[33;43mWhat is the temperature is Celsius?\u001b[39;49m\u001b[33;43m'\u001b[39;49m\u001b[43m)\u001b[49m)\n\u001b[32m     10\u001b[39m target_scale = \u001b[38;5;28minput\u001b[39m (\u001b[33m'\u001b[39m\u001b[33mDo you want to convert the temperature to Kelvin? (Yes/No)\u001b[39m\u001b[33m'\u001b[39m)\n\u001b[32m     11\u001b[39m convert_celsius(temp_c, target_scale)\n",
      "\u001b[31mTypeError\u001b[39m: 'float' object is not callable"
     ]
    }
   ],
   "source": [
    "def convert_celsius(temperature_celsius, target_scale):\n",
    "    if target_scale == 'Yes':\n",
    "        temp_k = temp_c + 273.15\n",
    "        print(f'The temperature is {temp_k}K')\n",
    "    else:\n",
    "        temp_f = (temperature_celsius * 9/5) + 32\n",
    "        print(f'The temperature is {temp_f}°F.')\n",
    "\n",
    "temp_c = float(input('What is the temperature is Celsius?'))\n",
    "target_scale = input ('Do you want to convert the temperature to Kelvin? (Yes/No)')\n",
    "convert_celsius(temp_c, target_scale)"
   ]
  },
  {
   "cell_type": "code",
   "execution_count": 11,
   "id": "6da64ae3-e044-487a-adab-ba00a2b71161",
   "metadata": {},
   "outputs": [
    {
     "name": "stdout",
     "output_type": "stream",
     "text": [
      "The temperature is 274.15K\n"
     ]
    }
   ],
   "source": [
    "def convert_celsius(temperature_celsius, target_scale):\n",
    "    if target_scale == 'Yes':\n",
    "        temp_k = temperature_celsius + 273.15\n",
    "        print(f'The temperature is {temp_k}K')\n",
    "    else:\n",
    "        temp_f = (temperature_celsius * 9/5) + 32\n",
    "        print(f'The temperature is {temp_f}°F.')\n",
    "\n",
    "convert_celsius(1,\"Yes\")"
   ]
  }
 ],
 "metadata": {
  "kernelspec": {
   "display_name": "Python 3 (ipykernel)",
   "language": "python",
   "name": "python3"
  },
  "language_info": {
   "codemirror_mode": {
    "name": "ipython",
    "version": 3
   },
   "file_extension": ".py",
   "mimetype": "text/x-python",
   "name": "python",
   "nbconvert_exporter": "python",
   "pygments_lexer": "ipython3",
   "version": "3.13.5"
  },
  "toc": {
   "base_numbering": 1,
   "nav_menu": {},
   "number_sections": true,
   "sideBar": true,
   "skip_h1_title": false,
   "title_cell": "Table of Contents",
   "title_sidebar": "Contents",
   "toc_cell": false,
   "toc_position": {},
   "toc_section_display": true,
   "toc_window_display": false
  },
  "vscode": {
   "interpreter": {
    "hash": "31f2aee4e71d21fbe5cf8b01ff0e069b9275f58929596ceb00d14d90e3e16cd6"
   }
  }
 },
 "nbformat": 4,
 "nbformat_minor": 5
}

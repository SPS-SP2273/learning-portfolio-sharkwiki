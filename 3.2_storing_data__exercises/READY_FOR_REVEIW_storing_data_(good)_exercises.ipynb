{
 "cells": [
  {
   "attachments": {},
   "cell_type": "markdown",
   "id": "123456",
   "metadata": {},
   "source": [
    "<div style=\"text-align:left;font-size:2em\"><span style=\"font-weight:bolder;font-size:1.25em\">SP2273 | Learning Portfolio</span><br><br><span style=\"font-weight:bold;color:darkred\">Storing Data (Good) Exercises</span></div>"
   ]
  },
  {
   "cell_type": "markdown",
   "id": "547cc42e-9a6e-4213-983c-6ba835fc5726",
   "metadata": {},
   "source": [
    "# **Exercise 1**\n",
    "\n",
    "| **Term** | **Brief description** |\n",
    "| :--- | :--- |\n",
    "| Subsetting | Selecting a subset of data |\n",
    "| Indexing | Selecting one value of the data |\n",
    "| Slicing | Selecting a range of the data |\n",
    "| Masking | *Using a True/False question to select a subset of data* |\n",
    "\n",
    "# **Exercise 2**"
   ]
  },
  {
   "cell_type": "code",
   "execution_count": 36,
   "id": "7004d113-4e66-4842-87d6-ab6e47aeb551",
   "metadata": {},
   "outputs": [
    {
     "name": "stdout",
     "output_type": "stream",
     "text": [
      "['1' '3' '2' '4' '5' '7' '6' '8' '10' '9']\n",
      "[ 1  3  2  4  5  7  6  8 10  9]\n",
      "[1 1 0 0 1 1 0 0 0 1]\n",
      "[ True  True False False  True  True False False False  True]\n"
     ]
    },
    {
     "data": {
      "text/plain": [
       "array([['1', 'A'],\n",
       "       ['3', 'C'],\n",
       "       ['5', 'E'],\n",
       "       ['7', 'G'],\n",
       "       ['9', 'I']], dtype='<U21')"
      ]
     },
     "execution_count": 36,
     "metadata": {},
     "output_type": "execute_result"
    }
   ],
   "source": [
    "import numpy as np\n",
    "\n",
    "np_array_2d = np.array([[1, \"A\"], [3, \"C\"], [2, \"B\"], [4, \"D\"],\n",
    "                        [5, \"E\"], [7, \"G\"], [6, \"F\"], [8, \"H\"],\n",
    "                        [10, \"J\"], [9, \"I\"]])\n",
    "\n",
    "print(np_array_2d[:10,0])  # results for other steps do not appear without 'print' \n",
    "\n",
    "print(np_array_2d[:10,0].astype(int))\n",
    "\n",
    "print(np_array_2d[:10,0].astype(int)%2)\n",
    "\n",
    "print(np_array_2d[:10,0].astype(int)%2==1)\n",
    "\n",
    "mask = np_array_2d[:10,0].astype(int)%2==1\n",
    "\n",
    "np_array_2d[mask]"
   ]
  },
  {
   "cell_type": "markdown",
   "id": "2703e391-33bf-4b6f-a78d-62822f008397",
   "metadata": {},
   "source": [
    "# **Exercise 3**"
   ]
  },
  {
   "cell_type": "code",
   "execution_count": 114,
   "id": "a2645bc4-d55f-4144-8ff4-736003ee2c40",
   "metadata": {},
   "outputs": [
    {
     "name": "stdout",
     "output_type": "stream",
     "text": [
      "[[ 1  0  1 -1 -1]\n",
      " [ 1 -1  1 -1 -1]\n",
      " [ 1 -1 -1  1 -1]\n",
      " [-1  1  1 -1 -1]\n",
      " [ 1 -1  1 -1  1]]\n"
     ]
    }
   ],
   "source": [
    "array = np.array([[66, 50, 57, -1, -1],\n",
    " [92, -1, 88, -1, -1],\n",
    " [75, -1, -1, 76, -1],\n",
    " [-1, 51, 87, -1, -1],\n",
    " [71, -1, 67, -1, 69]])\n",
    "\n",
    "mask = array > 50\n",
    "mask2 = array == 50\n",
    "\n",
    "array[mask] = 1\n",
    "array[mask2] = 0\n",
    "print(array)"
   ]
  },
  {
   "cell_type": "code",
   "execution_count": 116,
   "id": "95f1b2a1-dd6c-483b-a139-ef5d8d9de5b9",
   "metadata": {},
   "outputs": [
    {
     "name": "stdout",
     "output_type": "stream",
     "text": [
      "[[ 1  0  1 -1 -1]\n",
      " [ 1 -1  1 -1 -1]\n",
      " [ 1 -1 -1  1 -1]\n",
      " [-1  1  1 -1 -1]\n",
      " [ 1 -1  1 -1  1]]\n"
     ]
    }
   ],
   "source": [
    "# extra\n",
    "\n",
    "array = np.array([[66, 50, 57, -1, -1],\n",
    " [92, -1, 88, -1, -1],\n",
    " [75, -1, -1, 76, -1],\n",
    " [-1, 51, 87, -1, -1],\n",
    " [71, -1, 67, -1, 69]])\n",
    "\n",
    "array2 = np.where (array < 50, -1, array)\n",
    "array3 = np.where (array2 > 50, 1, array2)\n",
    "array4 = np.where (array3 == 50, 0, array3)\n",
    "print(array4)"
   ]
  }
 ],
 "metadata": {
  "kernelspec": {
   "display_name": "Python 3 (ipykernel)",
   "language": "python",
   "name": "python3"
  },
  "language_info": {
   "codemirror_mode": {
    "name": "ipython",
    "version": 3
   },
   "file_extension": ".py",
   "mimetype": "text/x-python",
   "name": "python",
   "nbconvert_exporter": "python",
   "pygments_lexer": "ipython3",
   "version": "3.13.5"
  },
  "toc": {
   "base_numbering": 1,
   "nav_menu": {},
   "number_sections": true,
   "sideBar": true,
   "skip_h1_title": false,
   "title_cell": "Table of Contents",
   "title_sidebar": "Contents",
   "toc_cell": false,
   "toc_position": {},
   "toc_section_display": true,
   "toc_window_display": false
  },
  "vscode": {
   "interpreter": {
    "hash": "31f2aee4e71d21fbe5cf8b01ff0e069b9275f58929596ceb00d14d90e3e16cd6"
   }
  }
 },
 "nbformat": 4,
 "nbformat_minor": 5
}

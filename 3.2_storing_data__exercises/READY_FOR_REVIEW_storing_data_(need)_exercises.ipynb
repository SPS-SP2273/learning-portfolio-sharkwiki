{
 "cells": [
  {
   "attachments": {},
   "cell_type": "markdown",
   "id": "123456",
   "metadata": {},
   "source": [
    "<div style=\"text-align:left;font-size:2em\"><span style=\"font-weight:bolder;font-size:1.25em\">SP2273 | Learning Portfolio</span><br><br><span style=\"font-weight:bold;color:darkred\">Storing Data (Need) Exercises</span></div>"
   ]
  },
  {
   "cell_type": "code",
   "execution_count": 1,
   "id": "95c631e1-5cd7-4e82-910d-15ba64d0289f",
   "metadata": {},
   "outputs": [],
   "source": [
    "import numpy as np"
   ]
  },
  {
   "cell_type": "markdown",
   "id": "c78f992e-5617-4bce-8bc4-e6b2678b7cf6",
   "metadata": {},
   "source": [
    "# **Exercise 1**"
   ]
  },
  {
   "cell_type": "markdown",
   "id": "3c47a0b3-151b-4d4f-9b74-605d3995a43e",
   "metadata": {},
   "source": [
    "**Q1. Similarities**\n",
    "1. Lists and arrays are both used to store information\n",
    "2. ~~Multiple basic lists/arrays are needed for storing multiple types of data, while a '*n*D' list/arrays can be used to store *n* types of data~~\n",
    "3. *Both lists and arrays are mutable and can be changed afterwards, unlike tuples*\n",
    "\n",
    "**Q2. Differences**\n",
    "1.  Multiplying a list makes the list longer, while multiplying an array multiplies the individual value of the numbers in the array\n",
    "2. Lists cannot be squared, but squaring an array will square the individual value of the numbers in the array\n",
    "3. *Lists can store multiple types of data, but arrays can only have a single data type*\n",
    "\n",
    "**Q3.** A dictionary is a method of storing data that pairs data with a key."
   ]
  },
  {
   "cell_type": "code",
   "execution_count": 4,
   "id": "3a10c8b4-7807-4d3b-a068-f04308890eb7",
   "metadata": {},
   "outputs": [
    {
     "name": "stdout",
     "output_type": "stream",
     "text": [
      "[4, 'hello', 1.33, [1, 2, 3]]\n"
     ]
    },
    {
     "ename": "ValueError",
     "evalue": "setting an array element with a sequence. The requested array has an inhomogeneous shape after 1 dimensions. The detected shape was (4,) + inhomogeneous part.",
     "output_type": "error",
     "traceback": [
      "\u001b[31m---------------------------------------------------------------------------\u001b[39m",
      "\u001b[31mValueError\u001b[39m                                Traceback (most recent call last)",
      "\u001b[36mCell\u001b[39m\u001b[36m \u001b[39m\u001b[32mIn[4]\u001b[39m\u001b[32m, line 7\u001b[39m\n\u001b[32m      3\u001b[39m \u001b[38;5;28mprint\u001b[39m(my_list)\n\u001b[32m      5\u001b[39m \u001b[38;5;28;01mimport\u001b[39;00m\u001b[38;5;250m \u001b[39m\u001b[34;01mnumpy\u001b[39;00m\u001b[38;5;250m \u001b[39m\u001b[38;5;28;01mas\u001b[39;00m\u001b[38;5;250m \u001b[39m\u001b[34;01mnp\u001b[39;00m\n\u001b[32m----> \u001b[39m\u001b[32m7\u001b[39m \u001b[43mnp\u001b[49m\u001b[43m.\u001b[49m\u001b[43marray\u001b[49m\u001b[43m(\u001b[49m\u001b[43m[\u001b[49m\u001b[32;43m4\u001b[39;49m\u001b[43m,\u001b[49m\u001b[43m \u001b[49m\u001b[33;43m\"\u001b[39;49m\u001b[33;43mhello\u001b[39;49m\u001b[33;43m\"\u001b[39;49m\u001b[43m,\u001b[49m\u001b[43m \u001b[49m\u001b[32;43m1.33\u001b[39;49m\u001b[43m,\u001b[49m\u001b[43m \u001b[49m\u001b[43m[\u001b[49m\u001b[32;43m1\u001b[39;49m\u001b[43m,\u001b[49m\u001b[43m \u001b[49m\u001b[32;43m2\u001b[39;49m\u001b[43m,\u001b[49m\u001b[43m \u001b[49m\u001b[32;43m3\u001b[39;49m\u001b[43m]\u001b[49m\u001b[43m]\u001b[49m\u001b[43m)\u001b[49m\n",
      "\u001b[31mValueError\u001b[39m: setting an array element with a sequence. The requested array has an inhomogeneous shape after 1 dimensions. The detected shape was (4,) + inhomogeneous part."
     ]
    }
   ],
   "source": [
    "my_list = [4, \"hello\", 1.33, [1, 2, 3]]\n",
    "\n",
    "print(my_list)\n",
    "\n",
    "import numpy as np\n",
    "\n",
    "np.array([4, \"hello\", 1.33, [1, 2, 3]])"
   ]
  },
  {
   "cell_type": "markdown",
   "id": "d569fb4f-bc05-4de7-ad0e-cf09181ed698",
   "metadata": {},
   "source": [
    "# **Exercise 2**"
   ]
  },
  {
   "cell_type": "code",
   "execution_count": 5,
   "id": "f55a6ff3-3c41-4ac4-85f6-cc39537d3d45",
   "metadata": {},
   "outputs": [
    {
     "name": "stdout",
     "output_type": "stream",
     "text": [
      "a1\n",
      "c3\n",
      "e5\n",
      "g7\n",
      "i9\n"
     ]
    }
   ],
   "source": [
    "py_list = [\"a1\", \"b2\", \"c3\", \"d4\", \"e5\", \"f6\", \"g7\", \"h8\", \"i9\", \"j10\"]\n",
    "print(py_list[0])                    # Prints 'a1'\n",
    "print(py_list[2])                    # Prints 'c3'\n",
    "print(py_list[4])                    # Prints 'e5'\n",
    "print(py_list[6])                    # Prints 'g7'\n",
    "print(py_list[8])                    # Prints 'i9'"
   ]
  },
  {
   "cell_type": "markdown",
   "id": "f6bce5fb-011c-4146-9cc8-9ae4b9efcbbb",
   "metadata": {},
   "source": [
    "# **Exercise 3**"
   ]
  },
  {
   "cell_type": "code",
   "execution_count": 12,
   "id": "aa6d1c6f-18ea-4a97-8554-931f56d6af47",
   "metadata": {},
   "outputs": [
    {
     "name": "stdout",
     "output_type": "stream",
     "text": [
      "Boron\n",
      "Nitrogen\n"
     ]
    }
   ],
   "source": [
    "elements = ['Hydrogen',\n",
    "            'Helium', 'Lithium',\n",
    "            'Beryllium', 'Boron', 'Carbon',\n",
    "            'Nitrogen', 'Oxygen',\n",
    "            'Fluorine',\n",
    "            'Neon']\n",
    "\n",
    "print(elements[4])\n",
    "\n",
    "print(elements[-4])"
   ]
  },
  {
   "cell_type": "markdown",
   "id": "bf169124-76db-4d99-aa26-5b0bae337db7",
   "metadata": {},
   "source": [
    "# **Exercise 4**"
   ]
  },
  {
   "cell_type": "code",
   "execution_count": 39,
   "id": "81883e17-87bd-4499-9c97-eadf4a739c29",
   "metadata": {},
   "outputs": [
    {
     "name": "stdout",
     "output_type": "stream",
     "text": [
      "9\n"
     ]
    }
   ],
   "source": [
    "numbers=[45, 60, 1, 30, 96, 1, 96, 57, 16, 1,\n",
    "        99, 62, 86, 43, 42, 60, 59, 1, 1, 35,\n",
    "        83, 47, 34, 28, 68, 23, 22, 92, 1, 79,\n",
    "        1, 29, 94, 72, 46, 47, 1, 74, 32, 20,\n",
    "        8, 37, 35, 1, 89, 29, 86, 19, 43, 61]                  \n",
    "\n",
    "print(np.sum(np.array(numbers)==1))"
   ]
  },
  {
   "cell_type": "markdown",
   "id": "688e3129-2b02-4bcc-bfd7-b5a59376dcd1",
   "metadata": {},
   "source": [
    "# **Exercise 5**"
   ]
  },
  {
   "cell_type": "code",
   "execution_count": 36,
   "id": "34850425-6948-4f34-95e7-544693943e16",
   "metadata": {},
   "outputs": [
    {
     "name": "stdout",
     "output_type": "stream",
     "text": [
      "The mean of x1 is 38.5\n",
      "The mean of x2 is 302.5\n",
      "The standard deviation of x1 is 32.41990129534635\n",
      "The standard deviation of x2 is 326.0893282522444\n",
      "0.9871796626270701\n",
      "0.9871796626270701\n"
     ]
    }
   ],
   "source": [
    "import numpy as np\n",
    "\n",
    "x1 = [1, 4, 9, 16, 25, 36, 49, 64, 81, 100]\n",
    "x2 = [1, 8, 27, 64, 125, 216, 343, 512, 729, 1000]\n",
    "\n",
    "print(f\"The mean of x1 is {np.mean(x1)}\")\n",
    "print(f\"The mean of x2 is {np.mean(x2)}\")\n",
    "\n",
    "print(f\"The standard deviation of x1 is {np.std(x1)}\")\n",
    "print(f\"The standard deviation of x2 is {np.std(x2)}\")\n",
    "\n",
    "numerator = np.sum((np.array(x1)-np.mean(x1))*(np.array(x2)-np.mean(x2)))\n",
    "denominator = np.sqrt((np.sum((np.array(x1)-np.mean(x1))**2))*(np.sum((np.array(x2)-np.mean(x2))**2)))\n",
    "print(numerator/denominator)\n",
    "\n",
    "correlation_matrix = np.corrcoef(x1,x2)\n",
    "pearson_r = correlation_matrix[0,1]\n",
    "print(pearson_r)"
   ]
  },
  {
   "cell_type": "code",
   "execution_count": 32,
   "id": "b69ef93b-a9b8-45fb-9e35-0431a18dcc4f",
   "metadata": {},
   "outputs": [
    {
     "name": "stdout",
     "output_type": "stream",
     "text": [
      "[-37.5 -34.5 -29.5 -22.5 -13.5  -2.5  10.5  25.5  42.5  61.5]\n",
      "[-301.5 -294.5 -275.5 -238.5 -177.5  -86.5   40.5  209.5  426.5  697.5]\n",
      "104362.5\n",
      "10510.5\n",
      "1063342.5\n",
      "105717.8383540356\n",
      "0.9871796626270701\n"
     ]
    }
   ],
   "source": [
    "# part 3 of exercise 5 but in more steps\n",
    "\n",
    "x1 = [1, 4, 9, 16, 25, 36, 49, 64, 81, 100]\n",
    "x2 = [1, 8, 27, 64, 125, 216, 343, 512, 729, 1000]\n",
    "\n",
    "x1xmean = np.array(x1)-np.mean(x1)\n",
    "x2xmean = np.array(x2)-np.mean(x2)\n",
    "\n",
    "print(x1xmean)\n",
    "print(x2xmean)\n",
    "\n",
    "numerator = np.sum(x1xmean*x2xmean)\n",
    "print(numerator)\n",
    "\n",
    "denom1 = np.sum(x1xmean**2)\n",
    "denom2 = np.sum(x2xmean**2)\n",
    "\n",
    "print(denom1)\n",
    "print(denom2)\n",
    "\n",
    "denominator = np.sqrt(denom1*denom2)\n",
    "print(denominator)\n",
    "\n",
    "pearsons = numerator / denominator\n",
    "print(pearsons)"
   ]
  }
 ],
 "metadata": {
  "kernelspec": {
   "display_name": "Python 3 (ipykernel)",
   "language": "python",
   "name": "python3"
  },
  "language_info": {
   "codemirror_mode": {
    "name": "ipython",
    "version": 3
   },
   "file_extension": ".py",
   "mimetype": "text/x-python",
   "name": "python",
   "nbconvert_exporter": "python",
   "pygments_lexer": "ipython3",
   "version": "3.13.5"
  },
  "toc": {
   "base_numbering": 1,
   "nav_menu": {},
   "number_sections": true,
   "sideBar": true,
   "skip_h1_title": false,
   "title_cell": "Table of Contents",
   "title_sidebar": "Contents",
   "toc_cell": false,
   "toc_position": {},
   "toc_section_display": true,
   "toc_window_display": false
  },
  "vscode": {
   "interpreter": {
    "hash": "31f2aee4e71d21fbe5cf8b01ff0e069b9275f58929596ceb00d14d90e3e16cd6"
   }
  }
 },
 "nbformat": 4,
 "nbformat_minor": 5
}

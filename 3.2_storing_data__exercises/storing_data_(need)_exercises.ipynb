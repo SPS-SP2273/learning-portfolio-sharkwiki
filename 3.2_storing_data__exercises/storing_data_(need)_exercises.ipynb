{
 "cells": [
  {
   "attachments": {},
   "cell_type": "markdown",
   "id": "123456",
   "metadata": {},
   "source": [
    "<div style=\"text-align:left;font-size:2em\"><span style=\"font-weight:bolder;font-size:1.25em\">SP2273 | Learning Portfolio</span><br><br><span style=\"font-weight:bold;color:darkred\">Storing Data (Need) Exercises</span></div>"
   ]
  },
  {
   "cell_type": "code",
   "execution_count": 1,
   "id": "95c631e1-5cd7-4e82-910d-15ba64d0289f",
   "metadata": {},
   "outputs": [],
   "source": [
    "import numpy as np"
   ]
  },
  {
   "cell_type": "markdown",
   "id": "c78f992e-5617-4bce-8bc4-e6b2678b7cf6",
   "metadata": {},
   "source": [
    "# **Exercise 1**"
   ]
  },
  {
   "cell_type": "markdown",
   "id": "3c47a0b3-151b-4d4f-9b74-605d3995a43e",
   "metadata": {},
   "source": [
    "**Q1. Similarities**\n",
    "1. Lists and arrays are both used to store information\n",
    "2. Multiple basic lists/arrays are needed for storing multiple types of data, while a '*n*D' list/arrays can be used to store *n* types of data\n",
    "\n",
    "**Q2. Differences**\n",
    "1.  Multiplying a list makes the list longer, while multiplying an array multiplies the individual value of the numbers in the array\n",
    "2. Lists cannot be squared, but squaring an array will square the individual value of the numbers in the array\n",
    "\n",
    "**Q3.** A dictionary is a method of storing data that pairs data with a key."
   ]
  },
  {
   "cell_type": "markdown",
   "id": "d569fb4f-bc05-4de7-ad0e-cf09181ed698",
   "metadata": {},
   "source": [
    "# **Exercise 2**"
   ]
  },
  {
   "cell_type": "code",
   "execution_count": 5,
   "id": "f55a6ff3-3c41-4ac4-85f6-cc39537d3d45",
   "metadata": {},
   "outputs": [
    {
     "name": "stdout",
     "output_type": "stream",
     "text": [
      "a1\n",
      "c3\n",
      "e5\n",
      "g7\n",
      "i9\n"
     ]
    }
   ],
   "source": [
    "py_list = [\"a1\", \"b2\", \"c3\", \"d4\", \"e5\", \"f6\", \"g7\", \"h8\", \"i9\", \"j10\"]\n",
    "print(py_list[0])                    # Prints 'a1'\n",
    "print(py_list[2])                    # Prints 'c3'\n",
    "print(py_list[4])                    # Prints 'e5'\n",
    "print(py_list[6])                    # Prints 'g7'\n",
    "print(py_list[8])                    # Prints 'i9'"
   ]
  },
  {
   "cell_type": "markdown",
   "id": "f6bce5fb-011c-4146-9cc8-9ae4b9efcbbb",
   "metadata": {},
   "source": [
    "# **Exercise 3**"
   ]
  },
  {
   "cell_type": "code",
   "execution_count": 12,
   "id": "aa6d1c6f-18ea-4a97-8554-931f56d6af47",
   "metadata": {},
   "outputs": [
    {
     "name": "stdout",
     "output_type": "stream",
     "text": [
      "Boron\n",
      "Nitrogen\n"
     ]
    }
   ],
   "source": [
    "elements = ['Hydrogen',\n",
    "            'Helium', 'Lithium',\n",
    "            'Beryllium', 'Boron', 'Carbon',\n",
    "            'Nitrogen', 'Oxygen',\n",
    "            'Fluorine',\n",
    "            'Neon']\n",
    "\n",
    "print(elements[4])\n",
    "\n",
    "print(elements[-4])"
   ]
  },
  {
   "cell_type": "markdown",
   "id": "bf169124-76db-4d99-aa26-5b0bae337db7",
   "metadata": {},
   "source": [
    "# **Exercise 4**"
   ]
  },
  {
   "cell_type": "code",
   "execution_count": 39,
   "id": "81883e17-87bd-4499-9c97-eadf4a739c29",
   "metadata": {},
   "outputs": [
    {
     "name": "stdout",
     "output_type": "stream",
     "text": [
      "9\n"
     ]
    }
   ],
   "source": [
    "numbers=[45, 60, 1, 30, 96, 1, 96, 57, 16, 1,\n",
    "        99, 62, 86, 43, 42, 60, 59, 1, 1, 35,\n",
    "        83, 47, 34, 28, 68, 23, 22, 92, 1, 79,\n",
    "        1, 29, 94, 72, 46, 47, 1, 74, 32, 20,\n",
    "        8, 37, 35, 1, 89, 29, 86, 19, 43, 61]                  \n",
    "\n",
    "print(np.sum(np.array(numbers)==1))"
   ]
  },
  {
   "cell_type": "markdown",
   "id": "688e3129-2b02-4bcc-bfd7-b5a59376dcd1",
   "metadata": {},
   "source": [
    "# **Exercise 5**"
   ]
  },
  {
   "cell_type": "code",
   "execution_count": 42,
   "id": "34850425-6948-4f34-95e7-544693943e16",
   "metadata": {},
   "outputs": [
    {
     "name": "stdout",
     "output_type": "stream",
     "text": [
      "The mean of x1 is 38.5\n",
      "The mean of x2 is 302.5\n",
      "The standard deviation of x1 is 32.41990129534635\n",
      "The standard deviation of x2 is 326.0893282522444\n",
      "[-0. -0. -0. -0. -0. -0.  0.  0.  0.  0.]\n",
      "0.0\n",
      "[nan nan nan nan nan nan nan nan nan nan]\n",
      "0.9871796626270701\n"
     ]
    },
    {
     "name": "stderr",
     "output_type": "stream",
     "text": [
      "C:\\Users\\Netanya Tham\\AppData\\Local\\Temp\\ipykernel_20140\\324433480.py:18: RuntimeWarning: invalid value encountered in divide\n",
      "  print(numerator/denominator)\n"
     ]
    }
   ],
   "source": [
    "import numpy as np\n",
    "\n",
    "x1 = [1, 4, 9, 16, 25, 36, 49, 64, 81, 100]\n",
    "x2 = [1, 8, 27, 64, 125, 216, 343, 512, 729, 1000]\n",
    "\n",
    "print(f\"The mean of x1 is {np.mean(x1)}\")\n",
    "print(f\"The mean of x2 is {np.mean(x2)}\")\n",
    "\n",
    "print(f\"The standard deviation of x1 is {np.std(x1)}\")\n",
    "print(f\"The standard deviation of x2 is {np.std(x2)}\")\n",
    "\n",
    "numerator = np.sum(np.array(x1)-np.mean(x1))*(np.array(x2)-np.mean(x2))\n",
    "denominator = np.sqrt((np.sum(np.array(x1)-np.mean(x1))**2)*(np.sum((np.array(x2)-np.mean(x2))**2))) #something is wronggg and i don't know what\n",
    "\n",
    "print(numerator)\n",
    "print(denominator)\n",
    "\n",
    "print(numerator/denominator)\n",
    "\n",
    "correlation_matrix = np.corrcoef(x1,x2)\n",
    "pearson_r = correlation_matrix[0,1]\n",
    "print(pearson_r)"
   ]
  }
 ],
 "metadata": {
  "kernelspec": {
   "display_name": "Python 3 (ipykernel)",
   "language": "python",
   "name": "python3"
  },
  "language_info": {
   "codemirror_mode": {
    "name": "ipython",
    "version": 3
   },
   "file_extension": ".py",
   "mimetype": "text/x-python",
   "name": "python",
   "nbconvert_exporter": "python",
   "pygments_lexer": "ipython3",
   "version": "3.13.5"
  },
  "toc": {
   "base_numbering": 1,
   "nav_menu": {},
   "number_sections": true,
   "sideBar": true,
   "skip_h1_title": false,
   "title_cell": "Table of Contents",
   "title_sidebar": "Contents",
   "toc_cell": false,
   "toc_position": {},
   "toc_section_display": true,
   "toc_window_display": false
  },
  "vscode": {
   "interpreter": {
    "hash": "31f2aee4e71d21fbe5cf8b01ff0e069b9275f58929596ceb00d14d90e3e16cd6"
   }
  }
 },
 "nbformat": 4,
 "nbformat_minor": 5
}

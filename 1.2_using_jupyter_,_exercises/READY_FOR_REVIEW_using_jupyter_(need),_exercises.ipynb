{
 "cells": [
  {
   "attachments": {},
   "cell_type": "markdown",
   "id": "123456",
   "metadata": {},
   "source": [
    "<div style=\"text-align:left;font-size:2em\"><span style=\"font-weight:bolder;font-size:1.25em\">SP2273 | Learning Portfolio</span><br><br><span style=\"font-weight:bold;color:darkred\">Using Jupyter (Need), Exercises</span></div>"
   ]
  },
  {
   "attachments": {},
   "cell_type": "markdown",
   "id": "01c7f863",
   "metadata": {},
   "source": [
    "## 1 Quadratic Equations"
   ]
  },
  {
   "attachments": {},
   "cell_type": "markdown",
   "id": "c6da2213",
   "metadata": {},
   "source": [
    "### Introduction"
   ]
  },
  {
   "cell_type": "markdown",
   "id": "13124e3e-ed85-4537-8589-43eec6265d51",
   "metadata": {},
   "source": [
    "![](https://upload.wikimedia.org/wikipedia/commons/thumb/f/f8/Polynomialdeg2.svg/300px-Polynomialdeg2.svg.png)\n",
    "\n",
    "*(Image from the [Wikipedia page on Quadratic equations](https://en.wikipedia.org/wiki/Quadratic_equation))*\n",
    "\n",
    "The general form of a quadratic equation is: \n",
    "$$\n",
    "    ax^2 + bx + c = 0\n",
    "$$"
   ]
  },
  {
   "attachments": {},
   "cell_type": "markdown",
   "id": "00abc63a",
   "metadata": {},
   "source": [
    "### Solutions"
   ]
  },
  {
   "cell_type": "markdown",
   "id": "200589fe-2522-4a1f-bae3-9c6c5c4bf548",
   "metadata": {},
   "source": [
    "Provided $a \\neq 0$, we can use an elementary algebraic method called [completing the square](https://en.wikipedia.org/wiki/Completing_the_square) to show that a quadratic equation has the following solution: \n",
    "$$\n",
    "  x = \\dfrac{-b \\pm \\sqrt{b^2-4ac}}{2a}  \n",
    "$$"
   ]
  },
  {
   "attachments": {},
   "cell_type": "markdown",
   "id": "2ceed502",
   "metadata": {},
   "source": [
    "### Discriminant"
   ]
  },
  {
   "cell_type": "markdown",
   "id": "d97d3248-34a6-476f-b80b-a5b1e6ff298e",
   "metadata": {},
   "source": [
    "The quantity $\\Delta= b^2-4ac$ is called the **discriminant** of the equation and decides the nature of its solutions. The table below shows the various possibilities.\n",
    "| **Discriminant**    |  **Roots**   | \n",
    "| :---: | :--- | \n",
    "| $\\Delta = b^2-4ac = 0$  |  A single solution of $-b/(2a)$  | \n",
    "| $\\Delta = b^2-4ac \\gt 0$   |  Two distinct solutions  |\n",
    "| $\\Delta = b^2-4ac \\lt 0$   |  No real solutions; both are complex.  | "
   ]
  },
  {
   "cell_type": "markdown",
   "id": "0d1ee9bd-e69a-43ff-ad36-e78f6e6c1590",
   "metadata": {},
   "source": [
    "## Exercise 2\n",
    "\n",
    "1. What is a Git **repository**?\n",
    "\n",
    "   Collection of (Git) code \n",
    "2. Git keeps track of __BLANK__ in the files in our repository.\n",
    "\n",
    "   Changes\n",
    "3. What is a **commit**?\n",
    "\n",
    "   A saved version or instance of the source code saved to the local machine, with the changes made and a description of them since the last saved version\n",
    "4. What is a **push**?\n",
    "\n",
    "   Updating the cloud from a local copy\n",
    "5. What is a **pull**?\n",
    "\n",
    "   Syncing the local copy with the cloud\n",
    "6. What is the difference between **GitHub** and **GitHub Desktop**?\n",
    "\n",
    "   GitHub is a cloud repository, while GitHub desktop allows easier syncing of the local repository to the cloud repository through 'commit' and 'push' (and 'pull')."
   ]
  },
  {
   "cell_type": "markdown",
   "id": "cc2c1366-52f4-44a0-80cb-3c292e36344d",
   "metadata": {},
   "source": [
    "## Exercise 3\n",
    "$$\n",
    "\\mu = \\dfrac{1}{n}\\sum_{i=1}^{n}x_i\n",
    "$$\n",
    "\n",
    "$$\n",
    "\\sigma = \\sqrt{\\dfrac{1}{n}\\sum_{i=1}^{n}(x_i-\\mu)^2}\n",
    "$$\n",
    "\n",
    "$$\n",
    "r = \\dfrac{\\sum_{i=1}^{n}(x_i-\\mu_X)(y_i-\\mu_Y)}{\\sqrt{\\sum_{i=1}^{n}(x_i-\\mu_X)^2\\sum_{i=1}^{n}(y_i-\\mu_Y)^2}}\n",
    "$$"
   ]
  },
  {
   "cell_type": "code",
   "execution_count": null,
   "id": "56d2c57b-a358-4840-84b9-6d21b55f0379",
   "metadata": {},
   "outputs": [],
   "source": []
  }
 ],
 "metadata": {
  "kernelspec": {
   "display_name": "Python 3 (ipykernel)",
   "language": "python",
   "name": "python3"
  },
  "language_info": {
   "codemirror_mode": {
    "name": "ipython",
    "version": 3
   },
   "file_extension": ".py",
   "mimetype": "text/x-python",
   "name": "python",
   "nbconvert_exporter": "python",
   "pygments_lexer": "ipython3",
   "version": "3.13.5"
  },
  "toc": {
   "base_numbering": 1,
   "nav_menu": {},
   "number_sections": true,
   "sideBar": true,
   "skip_h1_title": false,
   "title_cell": "Table of Contents",
   "title_sidebar": "Contents",
   "toc_cell": false,
   "toc_position": {},
   "toc_section_display": true,
   "toc_window_display": false
  },
  "vscode": {
   "interpreter": {
    "hash": "31f2aee4e71d21fbe5cf8b01ff0e069b9275f58929596ceb00d14d90e3e16cd6"
   }
  }
 },
 "nbformat": 4,
 "nbformat_minor": 5
}
